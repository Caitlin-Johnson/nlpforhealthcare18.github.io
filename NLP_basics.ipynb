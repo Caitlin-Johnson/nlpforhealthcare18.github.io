{
 "cells": [
  {
   "cell_type": "markdown",
   "metadata": {},
   "source": [
    "### Read PDF's and convert to text"
   ]
  },
  {
   "cell_type": "code",
   "execution_count": 1,
   "metadata": {},
   "outputs": [
    {
     "data": {
      "text/plain": [
       "'The Fremantle Trust\\nApthorp Care Centre\\n\\nInspection report\\n\\nNurserymans Road\\nLondon\\nN11 1EQ\\n\\nTel: 02082114000\\nWebsite: www.fremantletrust.org\\n\\nRatings\\n\\nDate of inspection visit:\\n09 October 2017\\n10 October 2017\\n11 October 2017\\n\\nDate of publication:\\n04 January 2018\\n\\nOverall rating for this service\\n\\nRequires Improvement  \\n\\nIs the service safe?\\n\\nIs the service effective?\\n\\nIs the service caring?\\n\\nIs the service responsive?\\n\\nIs the service well-led?\\n\\nRequires Improvement     \\n\\nRequires Improvement     \\n\\nGood     \\n\\nGood     \\n\\nRequires Improvement     \\n\\n1 Apthorp Care Centre Inspection report 04 January 2018\\n\\n\\x0cSummary of findings\\n\\nOverall summary\\n\\nThis inspection took place on 9, 10 and 11 October 2017 and was unannounced. During the last inspection \\non 1 February 2017 we found the service was in breach of four legal requirements and regulations \\nassociated with the Health and Social Care Act 2008. We found that people who used the service were not \\nprotected against the risks associated with their care and treatment. Medicines were not managed safely. \\nThere were not always adequate staffing levels at meal times. Staff were not receiving consistent support \\nthrough regular supervision. Not all people were supported to maintain their personal dignity. \\n\\nAt a previous inspection in July 2016, we found the service to be inadequate overall. We placed Apthorp Care\\nCentre into special measures and imposed a condition on the provider\\'s registration to submit monthly \\naudit reports to the Care Quality Commission (CQC). Following the inspection in February 2017, although \\nsome improvement had been made, the service remained in special measures and the conditions on the \\nprovider\\'s registration remained in place. \\n\\nThis inspection was carried out within the six-month time frame to check if improvements to the quality of \\ncare had been implemented. At this comprehensive inspection we found the registered provider had taken \\naction to achieve compliance with some of the regulations previously identified as non-compliant during \\nthe comprehensive inspection in February 2017. However, we found repeated breaches of Regulations 17 \\nand 18 of the Health and Social Care Act 2008 (Regulated Activities) Regulations. \\n\\nApthorp Care Centre is a purpose built residential care home that is registered to provide accommodation \\nfor up to 108 people who require personal care. The home is split into three floors that contain units called \\n\\'flats\\'. At the time of our inspection there were 75 older people living at the home, many of whom were living \\nwith dementia. \\n\\nThere was a registered manager in place. A registered manager is a person who has registered with the Care \\nQuality Commission to manage the service. Like registered providers, they are \\'registered persons\\'. \\nRegistered persons have legal responsibility for meeting the requirements in the Health and Social Care Act \\n2008 and associated Regulations about how the service is run.\\n\\nAt our last inspection we identified that staff were not effectively deployed around mealtimes. At this \\ninspection we found that although there were sufficient staff on duty, at key times throughout the day such \\nas mealtimes, we found that staff were not effectively deployed to ensure people received support with \\neating in a timely manner. \\n\\nAt our last inspection, we found that appropriate fluid monitoring records were not kept for people who \\nwere at risk of dehydration. At this inspection we identified repeated concerns in this area. \\n\\nAt this inspection, we found that although risk assessments were now identifying risks individual to people \\nand staff were receiving appropriate guidance, some risks to people were, in practice, not actively mitigated \\n\\n2 Apthorp Care Centre Inspection report 04 January 2018\\n\\n\\x0cagainst. \\n\\nImproved systems and processes were in place to monitor quality of care. However, quality monitoring \\nrequired further implementation and embedding. \\n\\nMedicines were now safely stored and administered. Appropriate records were kept of medicine \\nadministrations and regular medicines audits took place. \\n\\nStaff training, supervisions and appraisals were monitored and updated regularly. Systems had been \\nimplemented to ensure a better oversight of when staff training, supervisions and appraisals were due. \\n\\nProcedures and policies relating to safeguarding people from harm were in place and accessible to staff. All \\nstaff had completed training in safeguarding adults and demonstrated an understanding of the types of \\nabuse to look out for and how to raise safeguarding concerns.\\n\\nCare plans were person centred and reflected what was important to the person. Care plans provided \\nappropriate guidance to enable staff to deliver person centred care in line with people\\'s preferences.\\n\\nAccidents and incidents were monitored and analysed on a monthly basis. \\n\\nPeople engaged in a comprehensive activities programme delivered by dedicated activities co-ordinators. \\n\\nPeople and relatives spoke positively of the caring nature of care staff. \\n\\nThe home was clean and well-maintained; however we identified a concern regarding water temperatures. \\nThe registered provider took immediate action to resolve the situation. \\n\\nConsent to care was obtained from the appropriate person. Care plans specifying best interest needs were \\nin place. Staff had received training on the Mental Capacity Act 2005 (MCA) and staff understood the \\nimportance of obtaining consent from people. Deprivation of Liberty Safeguards (DoLS) were applied for \\nand monitored. \\n\\nAt this inspection we identified breaches of regulations. You can see what action we have asked the provider\\nto take at the back of the full version the report. However, as the provider had demonstrated significant \\nimprovements, the service is no longer rated as inadequate for any of the five questions and therefore no \\nlonger remains in special measures.\\n\\n3 Apthorp Care Centre Inspection report 04 January 2018\\n\\n\\x0cThe five questions we ask about services and what we found\\n\\nWe always ask the following five questions of services.\\n\\nIs the service safe?\\n\\nRequires Improvement  \\n\\nThe service was not always safe. Staff were not effectively \\ndeployed at certain times of the day to ensure people\\'s needs \\nwere met. \\n\\nMedicines were managed safely.\\n\\nIndividual risks were assessed and guidance was provided to \\nstaff, however we found instances were assessed risks, in \\npractice, were not mitigated. \\n\\nPeople told us they felt safe. Staff were aware of different types of\\nabuse and what steps they would take if they had any \\nsafeguarding concerns.\\n\\nRecruitment procedures were in place to ensure staff members \\nwere fit to undertake their roles.\\n\\nIs the service effective?\\n\\nRequires Improvement  \\n\\nThe service was not always effective. The service was not \\ncompleting health monitoring charts effectively to ensure people\\nat risk of dehydration received sufficient hydration. \\n\\nStaff had access to regular training, supervisions and appraisals \\nwhich supported them to carry out their role.\\n\\nMental capacity and Deprivation of Liberty Safeguards were \\nunderstood and principles of the code of practice were being \\nfollowed.\\n\\nPeople were given the assistance they required to access \\nhealthcare services and maintain good health.\\n\\nIs the service caring?\\n\\nThe service was caring. There were positive relationships \\nbetween staff and people using the service. Staff treated people \\nwith respect and dignity.\\n\\nStaff had a good knowledge and understanding on people\\'s \\n\\n4 Apthorp Care Centre Inspection report 04 January 2018\\n\\nGood  \\n\\n\\x0cbackground and preferences.\\n\\nPeople were supported to maintain independence, where \\npossible.\\n\\nIs the service responsive?\\n\\nThe service was responsive. Care plans were person centred.\\n\\nPeople had access to a variety of activities. \\n\\nThe home had a complaints policy in place; complaints were \\ninvestigated and responded to. People and relatives knew how \\nto complain if they needed to.\\n\\nGood  \\n\\nIs the service well-led?\\n\\nRequires Improvement  \\n\\nThe service was not always well-led. We identified repeated \\nconcerns at this inspection. \\n\\nQuality assurance systems were in place, however further \\nembedding was required. Negative feedback received from \\npeople in a quality survey was not acted upon in a timely \\nmanner. \\n\\nWe received positive feedback regarding the registered manager \\nfrom people, relatives and staff. People and relatives told us they \\nhad seen the quality of care improve at Apthorp Care Centre.\\n\\n5 Apthorp Care Centre Inspection report 04 January 2018\\n\\n\\x0c \\n\\nApthorp Care Centre\\n\\nDetailed findings\\n\\nBackground to this inspection\\nWe carried out this inspection under Section 60 of the Health and Social Care Act 2008 as part of our \\nregulatory functions. This inspection checked whether the provider is meeting the legal requirements and \\nregulations associated with the Health and Social Care Act 2008, to look at the overall quality of the service, \\nand to provide a rating for the service under the Care Act 2014.\\n\\nThis inspection took place on 9, 10 and 11 October 2017 and was unannounced. The inspection team \\nconsisted of a lead inspector, three supporting inspectors, a pharmacist inspector, a specialist nurse advisor \\nand two experts by experience. An expert by experience is a person who has personal experience of using or \\ncaring for someone who uses this type of care service.\\n\\nBefore the inspection we reviewed the information we held about the service such as statutory notifications \\nand safeguarding alerts. We also looked at the action plan that the service had provided to the CQC \\nfollowing the last inspection and the monthly updates received. We obtained feedback from the local \\nauthority quality monitoring team and one involved health professional. \\n\\nDuring the inspection we spoke to 30 people who used the service, 10 relatives, 20 care workers, \\nhousekeeping and maintenance staff, four activities staff, three floor managers, two deputy managers, the \\nregistered manager and two regional directors. We obtained feedback from two visiting health and social \\ncare professionals. \\n\\nWe also used the Short Observational Framework for Inspection (SOFI). SOFI is a way of observing care to \\nhelp us understand the experience of people when they may not be able to tell us themselves.\\n\\nWe looked at 14 people\\'s care plans and risk assessments, 14 Medicines Administration Records (MAR), 13 \\nstaff files and records related to the management of the service such as quality assurance documents, \\nhealth and safety records and the training matrix.\\n\\n6 Apthorp Care Centre Inspection report 04 January 2018\\n\\n\\x0c Is the service safe?\\n\\nRequires Improvement\\n\\nOur findings  \\nAt our last inspection on 1 February 2017, we found that staffing levels were not sufficient around meal times\\nto ensure that people were supported to eat and drink. We found at this inspection that although some \\nimprovements had been made and that there were sufficient staff available in the home overall to safely \\nensure people\\'s care needs were met, we remained concerned about how staff were deployed to ensure \\npeople received support in a timely manner during meal times. \\n\\nWe spent time looking at the staffing arrangements in place to support people living at Apthorp Care Centre.\\nWe spoke with people who used the service, relatives, and staff, looked at staffing rotas, the dependency \\ntool and observed the support offered throughout the day.\\n\\nWe observed lunch time across three days in all areas of the home. We found that in areas where people \\nneeded additional support to eat or required staff to prompt them, this was not always happening. We \\nobserved that one person waited in excess of thirty minutes to be supported by care staff after their lunch \\nhad been served, although it was noted that the staff member apologised to the person for the delay when \\nthey started to assist them to eat. We also observed that in one flat, two care staff were supporting five \\npeople to eat, two of whom were entirely dependent on staff for support with eating. Three people required \\nprompting and encouragement to eat and were refusing their meals. Both staff members attempted to \\nsupport all five people; however, it meant that people were receiving their meals in a stop-start fashion and \\nfood was left to get cold. We observed some senior staff members assist care staff during lunchtime; \\nhowever, we received consistent feedback from staff and a professional involved with the service that senior \\nstaff did not usually assist at mealtimes.\\n\\nSince the last inspection, we found that the service no longer relied on agency staff to ensure staffing levels \\nwere at a safe level. The regional director told us that this had been a significant achievement in stabilising \\nthe workforce and ensuring that the quality of care improved. Rotas confirmed that 21 care staff were on \\nduty in the early part of the day, 20 care staff in the afternoon and evenings with nine care staff on duty at \\nnight which was reflected in the provider\\'s dependency tool. We received a mixed response from people \\nwho used the service when asked if they thought there were enough staff. Comments received from people \\nincluded, \"Sometimes a bit short. Not a big thing. Carers come and chat and talk when doing something\", \\n\"Yes I do think there is enough\", \"No it is woeful. There is not enough staff here\" and \"Staff very helpful and \\nenough of them.\" Relatives told us, \"I noticed recently new staff recruited i.e. floor managers and they take \\nnotice\" and \"They ring me and keep me updated and you get continuity of staff. All good now. Staff were \\nreally poor and there was bad treatment; none of it now.\" \\n\\nWe discussed our concerns with the home management who advised that they recognised staffing at \\nmealtimes was a challenge and following the inspection, submitted an action plan detailing that mealtimes \\nwould be protected and all staff in the home including admin and domestic staff, with appropriate training, \\nwould be drafted in to support with mealtimes. \\n\\nThere were not always sufficient numbers of staff suitably deployed at the service to ensure people\\'s needs \\n\\n7 Apthorp Care Centre Inspection report 04 January 2018\\n\\n\\x0cwere met. This was a continued breach of Regulation 18 of the Health and Social Care Act 2008 (Regulated \\nActivities) Regulations 2014.\\n\\nAt our last inspection in February 2017, we found that although risk assessments were identifying most risks \\nassociated with people\\'s care and treatment, there were instances were risks had not been considered \\nappropriately. At this inspection, we found that the provider had mostly addressed the issue. \\n\\nRisk assessments were person centred, up to date and reviewed regularly. They covered risks to people such\\nas skin integrity, moving and handling, falls, risks associated with the use of bedrails, smoking, alcohol \\nconsumption and health conditions such as diabetes, mental health conditions and associated behaviours. \\nStaff were able to explain how they would work with people\\'s identified risks. For example, one person\\'s \\ncare record detailed that the person had been identified as being at risk of falls. Staff supported this person \\nregularly to ensure the person continued to maintain their independence and felt safe. The person told us, \\n\"The staff checks on me during the day and at night and accompanies me to the toilet. At home I used to \\nhave small accidents. Not here.\" \\n\\nAnother person\\'s care record indicated that they were at risk of developing pressure ulcers. Their care record\\nspecified they should be supported to turn over in bed to relieve pressure on their skin. They were supported\\nto do this every two hours. Staff had signed a chart to confirm that they had done this. There were \\nrepositioning charts for the past ten days confirming that they had done so consistently. The person\\'s \\nrelative told us, \"There has been a lot of improvement in [person\\'s] ulcer. I know this because she is no \\nlonger in pain.\"  A health professional told us, \"The wound has improved, there is strong evidence that the \\nstaff are turning [person] regularly and changing [person\\'s] pads.\" Staff had also documented that the \\nwounds \\'showed signs of healing\\'. Staff we spoke to knew how to refer people to the district nurse and \\ntissue viability nurse in order to obtain advice about the prevention and management of pressure ulcers \\nwhen required. \\n\\nHowever, we found some inconsistencies in how identified risks were managed to ensure people stayed \\nsafe. We observed two occasions where people requiring supervision for certain tasks, were left unattended. \\nOne of these occasions was where a person required supervision whilst eating their meal. The person\\'s care \\nplan stated, \"Staff need to support [Person], as they have a tendency to put too much into their mouth.\" We \\nspoke to a staff member nearby who told us that they knew the person required supervision but they were \\nunable to do so fully as they had to attend to the needs of other people also. \\n\\nThere were generic and environmental risk assessments for all areas of the home. Care had been taken to \\nidentify and manage risks around the home, but in some cases practice observed fell short of these control \\nmeasures. We observed people walking into the open plan kitchen in flat one, with no staff supervision. The \\nkitchen in flat three had a keypad entry system for the door, but this was observed to be left on the latch or \\nwide open on several occasions during the inspection. The kitchens in all the flats contained small \\nappliances such as microwaves, kettles and toasters. Records showed that the small appliances had been \\ntested to ensure they were electrically safe to use, but there were no specific risk assessments to ensure that \\npeople who were able to enter the kitchens were safe to do so.\\n\\nWe raised our concerns regarding mitigating risk management to the home management team who \\nsubmitted an action plan shortly after the inspection to rectify the concerns we noted. \\n\\nAt our last inspection, we found that medicines were not safely managed. At this inspection we found that \\nthe provider had addressed the issue. We looked at the systems in place for managing medicines. We spoke \\nwith seven staff involved in the governance and administration of medicines, observed medicine \\n\\n8 Apthorp Care Centre Inspection report 04 January 2018\\n\\n\\x0cadministration for five residents and examined 14 people\\'s medicines administration records (MARs).\\n\\nMedicines were stored securely in medicine trollies which were kept in a locked room. We observed on \\noccasions that staff administering medicines left the medicine trolley open and unattended in corridors. \\nThis was fed back to management who advised they would address the concerns with the identified staff. \\nStaff recorded fridge and room temperatures daily which demonstrated that medicines were stored at the \\ncorrect temperatures. The care home had a process for ordering and checking stock that made sure \\nmedicines were available for people. Medicines no longer required were clearly separated from other stock, \\nrecorded in a log and returned to the dispensing pharmacy.\\n\\nMedicines that require additional controls because of their potential for abuse (controlled drugs) were \\nstored in a suitable cupboard. When a controlled drug was administered, the records showed the signature \\nof the person administering the medicine and a witness signature. Staff completed regular stock checks. \\nOne controlled drug did not have the quantity recorded in the log book. This was highlighted to staff and the\\nmedicine was correctly recorded by the end of the inspection.\\n\\nCare staff administered medicines with care and patience and tailored the administration to the needs of \\nthe individual. We saw staff following a safe method for giving and recording medicines administration. The \\nservice provided regular medicine training and conducted competency assessments for staff.\\n\\nThe dispensing pharmacy supplied the MARs and staff completed the MARs accurately to show what \\nmedicines people had taken. For medicines administered as and when required, there were clear protocols \\ndetailing how and when to give the medicine. Staff completed patch charts and topical administration \\nrecords to show when medicines were applied to the skin. People\\'s details and allergy status were recorded \\non the MARs and medicine profile. We saw one record where the medicine profile stated an allergy but the \\nMAR stated no known allergies. This was highlighted to the management team on the day of inspection. \\nThey immediately addressed the concern and made sure that the person\\'s allergy status was correct on all \\ndocumentation.\\n\\nThe procedures to enable people to self-administer medicines were not well established in the care home. \\nWe saw person that self-administered some of their medicines. While staff had completed a brief risk \\nassessment, it did not comprehensively assess the person\\'s ability to manage their medicines safely. The \\nprovider had recently introduced a medicine risk assessment as part of an overall documentation review. \\nThis was not yet in use at the home at the time of inspection. We raised this with the home management \\nteam who advised that they would ensure the risk assessment was completed by all responsible staff. \\n\\nThe care home liaised regularly with the dispensing pharmacy and GP surgeries to discuss medicine \\nmanagement. The service strived for continuous improvement. The management had introduced a \\nmedicine audit programme which included daily and monthly audits. There was evidence that the audits \\nwere identifying areas for improvement and that action was taken to make the improvements.\\n\\nAll people and relatives we spoke with told us they or their loved one were safe living at Apthorp Care \\nCentre. Feedback received from people included, \"Got own room with a bed. They wash your clothes. You\\'re \\nsafe here. Main thing in life is to be safe\", \"Yes they look after us well\" and \"Yes, so far I have not found \\nanything to be afraid of.\" Relatives told us, \"[Person\\'s] safer than when she was at home\", \"[Person] has been\\nhere three years and is happier now as it\\'s much improved. They come and check on her more often\" and \"I \\nthink [person] feels safe, comfortable and loved.\" \\n\\nWe checked to see if staff were safely recruited. Staff files included application forms, records of interview \\n\\n9 Apthorp Care Centre Inspection report 04 January 2018\\n\\n\\x0cand appropriate references. Records showed that checks had been made with the Disclosure and Barring \\nService (criminal records check) to make sure that only suitable staff were employed to work at the home. \\nRecords seen confirmed that staff members were entitled to work in the UK.\\n\\nStaff had a good understanding of how to keep people safe and their responsibilities for reporting accidents,\\nincidents or concerns. Records confirmed that staff had received training in safeguarding people. Staff also \\nconfirmed that they could access the safeguarding policy. They were able to describe the types of abuse to \\nlook out for and the steps they would take if they had concerns. Staff identified that they could report abuse \\nconcerns outside of the organisation to the local safeguarding authority and the Care Quality Commission \\n(CQC). Staff were knowledgeable about what whistleblowing meant. A staff member told us, \"It\\'s about \\nkeeping everyone safe. I would immediately report any concerns and if I was not happy with response I \\nwould go to head office and whistle blow. I could also go to the police and CQC. The management are pretty\\ngood with reporting.\"\\n\\nAccidents and incidents were recorded and actions and learning identified as a result of the incident were \\nimplemented. Staff knew how to report accidents and incidents. Falls were recorded and analysed on a \\nmonthly basis for trends and potential causes. Incidents such as falls and unexplained bruising or body \\nmarks were discussed by the home management team on a daily basis and monitored. Where appropriate, \\nsafeguarding alerts had been sent to the local safeguarding authority for further investigation. We saw that \\none person had been assessed at being at risk of climbing over their bed rails. As a result, the person\\'s \\nprofiling bed had been lowered to its lowest point and had movement sensors installed. There were crash \\nmattresses on both sides of their bed which allowed the person to slide on to the mattresses. Staff were \\nknowledgeable around how to safely support the person during moving and handling. \\n\\nThe safety of the building was routinely monitored and records showed appropriate checks and tests of \\nequipment and systems such as fire alarms, emergency lighting and gas and electrical safety had been \\nundertaken. The service also had contracts in place for the routine maintenance and servicing of \\nequipment. Water temperatures were checked on a regular basis, however, throughout the inspection we \\nobserved that the hot water in some bedrooms and communal toilets was above the acceptable \\ntemperature range as stated by the Health and Safety Executive (HSE), which could have placed people at \\nrisk of scalding. We discussed our concerns with the home management team who commissioned an \\nexternal service provider to review and recalibrate the water temperatures. The provider also assured that \\nthey would closely monitor the situation and undertake any necessary remedial works to ensure water \\ntemperatures were within an acceptable temperature range. \\n\\nPersonal Emergency Evacuation Plans (PEEPs) were in place and the provider had a clear contingency plan \\nin place to help ensure people were kept safe in the event of a fire or other emergency.\\n\\nPeople were protected by the use of safe infection control procedures and practices. Staff were trained and \\nkept up to date with good practice. The home was overall clean and well maintained on the days we visited.\\n\\n10 Apthorp Care Centre Inspection report 04 January 2018\\n\\n\\x0c Is the service effective?\\n\\nRequires Improvement\\n\\nOur findings  \\nAt our last inspection in February 2017, we found inconsistent recording on charts relating to people\\'s \\nhealth. People who were at high risk with regards to their nutrition and fluid intake had fluid and food \\nmonitoring charts to allow staff to monitor their food consumption and fluid intake. We found that some \\npeople\\'s food and fluid charts were not regularly completed and contained gaps in recording. \\n\\nDuring this inspection, we found that the provider had not addressed the issue. Daily fluid intake targets \\nwere not identified for people at risk of dehydration. Fluid monitoring charts were inconsistently completed \\nwith gaps in recording seen, especially at night time. Although running fluid intake totals were kept, a daily \\ntotal fluid intake was not calculated and where a person was recorded to have had a low fluid intake, it was \\nnot clear from review of documentation that any actions had been taken to escalate concerns regarding low\\nfluid intake. We saw that the local authority had raised fluid intake monitoring with the provider on two \\noccasions following the last inspection, however, the provider had failed to adequately implement a robust \\nrecording system for monitoring fluid intake for people who were at risk of dehydration. We observed that \\npeople had access to drinks and were regularly offered drinks by staff throughout the inspection which was \\nreflected in feedback received from people. We observed that the head chef was knowledgeable of people \\nat risk of dehydration and additional supplements to encourage hydration such as jellies, smoothies and \\nfruits. Therefore the concerns noted are related to record-keeping as opposed to hydration. \\n\\nThis was a continued breach of Regulation 17 of the Health and Social Care Act 2008 (Regulated Activities) \\nRegulations 2014.\\n\\nWe found that people\\'s weights were proactively monitored using a Malnutrition Universal Screening Tool \\n(MUST) which colour coded the level of risk of malnutrition posed to the person. Dependent on the level of \\nrisk, an action plan was implemented called \\'food first strategy\\' where the person was supported with \\nfortified foods and nutritional shakes. Where a person posed an increased risk, a referral to the dietician was \\nmade in addition to the \\'food first strategy.\\' The registered manager maintained an overview system of \\npeople\\'s monthly weights and we saw that some people at risk of malnutrition gained weight as a result of \\nthe interventions made. \\n\\nWe received a mostly positive response when we asked people about the quality and choice of food on offer \\nat Apthorp Care Centre. Comments received from people included, \"Food nice and you get a choice\", \"You \\nget a choice. If you don\\'t like you can have an omelette or jacket potato\", \"Sometimes they choose and \\nsometimes they ask you what you want. The food is very good\" and \"A good average. But you don\\'t expect A \\nLa Carte. They are pleasant at lunchtime.\" A relative told us, \"[Person] loves ice-cream and gets lots of it.\" \\n\\nWe observed lunchtimes across all flats in the home on all three days of the inspection and found \\ninconsistencies in the mealtime experience people received. In some flats where people were more able and\\ncould feed themselves, their lunchtime experience was calm and pleasant. In parts of the home where \\npeople required assistance with eating their meal, lunchtime was observed to be more chaotic as a result of \\npoor staff deployment which was elaborated on in the safe section of this report. \\n\\n11 Apthorp Care Centre Inspection report 04 January 2018\\n\\n\\x0cAlthough staff and some people told us people had a choice of meal, we did not always observe this in \\npractice. We saw that there was one main meal on offer at lunch time. Alternatives such as baked potato \\nand sandwiches were offered if someone did not want the main choice on offer. We saw that people made \\ntheir lunch choice for the following day in the afternoon. However, we observed that when lunch was served,\\npeople were given the main meal only and alternatives were not offered if the person did not want the main \\nchoice. \\n\\nWe observed that in most flats, the menu was on display either in the kitchen area away from people\\'s view \\nor not at all. When people asked what the meal they were being served was some staff could not tell them. \\nFor people living with dementia, they may not have been able to recall what they chose for their meal the \\nday prior. We discussed our findings with the home management team who acknowledged that their meal \\ntime experience for people could be improved and they advised that they would make this a priority area for\\nimprovement. \\n\\nWe observed some kind and patient interactions between staff and people who used the service at \\nmealtimes. We saw that staff ate their meals alongside people at lunchtime and where people required \\nprompting and assistance, staff provided this in a caring manner. We spoke to the chef who was very \\nknowledgeable around people\\'s dietary needs and preferences. \\n\\nAt our previous inspections in July 2016 and February 2017, we found that the provider was not ensuring \\nstaff were adequately supported through regular supervision sessions. At this inspection, we found that the \\nprovider had made improvements in this area. \\n\\nPeople and their relatives spoke positively about staff and told us they were skilled to meet their needs. One \\nperson told us when asked, \"Definitely.\" A second person told us, \"Yes. Anybody I have asked has helped \\nme.\" A third person told us, \"I\\'m happy to be with everyone\". A relative told us, \"Its obvious [staff] have had \\ntraining.\" \\n\\nStaff told us they received regular supervision sessions with their line manager. A staff member told us, \"We \\ndiscuss my role, what I am doing right/wrong, good/bad feedback which is very helpful.\" The provider was \\ncurrently in the process of moving from a paper based supervision record to an electronic record which \\nlinked in with the appraisal process. The company policy stated that there should be two supervisions per \\nyear which is supplemented by a mid-year review and an annual appraisal. There was a large backlog of \\nstaff who had not received supervisions or appraisals in line with the frequency set out in the company \\npolicy, however, the service was working to reduce the backlog and expected to have everyone up to date by\\nthe end of the year. \\n\\nThere was a cascade system for appraisals to ensure that they were spread out among senior staff and that \\nthe reliance would not be all on one senior staff member to undertake them with all staff. The registered \\nmanager supervised the deputy managers, who then supervised the floor managers who then supervised \\nteam leaders who then supervised support staff. \\n\\nThe electronic system was set out so that there were set questions asked to all staff which linked in with \\ntheir development and training needs and allowed staff to comment on their progress. Staff were asked to \\nreview the questions they would be asked in advance of the face to face meetings to allow them to consider \\ntheir answers and reflect on their performance. New staff were given supervision more frequently when they \\njoined the service to offer additional support and allowed them the opportunity to raise any learning needs.\\n\\nNew employees attended a three day induction at head office prior to commencing work at the service. New\\n\\n12 Apthorp Care Centre Inspection report 04 January 2018\\n\\n\\x0cstaff then completed the care certificate over the first five weeks and spent a minimum of two weeks \\nshadowing other staff. New staff were allocated to one particular flat to give them the opportunity to get to \\nknow the role and the people residing in that particular flat. Staff were not allowed to dispense medicines \\nuntil they had passed their six month probationary period.\\n\\nAll training was monitored centrally by the provider, however, the service also kept a spread sheet of staff \\ntraining to ensure that the central register was correct and up to date. Staff received training in key areas \\nrelevant to their roles including moving and handling, infection control and health and safety. Staff were \\nalso offered training in addition to mandatory subjects such as diabetes care which was provided by \\nexternal healthcare professionals. Staff were also supported to achieve additional vocational qualifications \\nin health and social care which were provided by external providers. Staff told us they received regular \\ntraining and were supported to obtain a national vocational qualification. \\n\\nThe Mental Capacity Act 2005 (MCA) provides a legal framework for making particular decisions on behalf of \\npeople who may lack the mental capacity to do so for themselves. The Act requires that as far as possible \\npeople make their own decisions and are helped to do so when needed. When they lack mental capacity to \\ntake particular decisions, any made on their behalf must be in their best interests and as least restrictive as \\npossible. People can only be deprived of their liberty to receive care and treatment when this is in their best \\ninterests and legally authorised under the MCA. The application procedures for this in care homes and \\nhospitals are called the Deprivation of Liberty Safeguards (DoLS). Where people were deprived of their \\nliberty, appropriate applications had been submitted to the local authority for DoLS assessments to be \\nconsidered for authorisation. DoLS were monitored on an on-going basis and applications had been \\nsubmitted for reviews and renewals in a timely manner. \\n\\nStaff had a good understanding of MCA and DoLS and understood the importance of asking for consent \\nfrom people. Staff had attended MCA training. A staff member told us, \"A person without capacity needs \\nsafeguards in place to protect them such as DoLS. People can still make a choice by looking even if they \\ncan\\'t understand.\" A second staff member told us if someone did not have mental capacity, \"I would still ask\\nthem what they would like to wear. I would still give them a choice.\" People told us that staff asked for their \\nconsent when providing assistance. A person told us, \"I have never found them [staff] intrusive.\" \\n\\nPeople were supported to maintain good health and had access to healthcare services and received on-\\ngoing healthcare support. Care plans detailed records of appointments with health and care professionals. \\nWe also saw evidence that following appointments, people\\'s care plans were updated accordingly. A person \\ntold us, \"Only recently I saw a Doctor.\" A second person told us, \"They take me in a wheelchair to see the \\nDoctor.\" A relative told us, \"The GP has always been really accessible.\" We observed throughout the \\ninspection that where staff had a concern about a person, they were prompt in arranging for the person to \\nsee a medical professional. In addition, we observed people\\'s health appointments discussed at the \\nmorning handover meeting.  \\n\\n13 Apthorp Care Centre Inspection report 04 January 2018\\n\\n\\x0c Is the service caring?\\n\\nGood\\n\\nOur findings  \\nWhen we last inspected the service, we found that people were not always supported to maintain their \\ndignity. At this inspection, we found that the provider had addressed the issue. Most people and all relatives \\ntold us they were happy with the care they received and spoke positively about staff. Comments received \\nfrom people included, \"The staff are lovely\", \"Very happy here. Everybody is so nice and cheerful. Always \\nhere to help you\" and \"The staff are very caring and we are happy here. They really look after us. We are not \\nshort of anything.\" A relative told us, \"Staff are so conscientious. They really do care.\" A second relative told \\nus, \"The atmosphere is very pleasant. Staff do as much for me as they do for [relative].\"\\n\\nWe did receive some feedback from people stating that they felt that at times staff were rushed in \\ncompleting their tasks and did not have much time to speak with people. A person told us, \"They are always \\nworking, always moving, no time to chat.\" However another person told us, \"Carers come and chat and talk \\nwhen doing something.\" \\n\\nWe observed kind and positive interactions between staff and the people they were supporting. Staff were \\ngently orientating people when appropriate. Staff were maintaining some physical contact such as hand \\nholding where this was appropriate and calming for the person.\\n\\nWe spoke with people and relatives about whether they felt involved with their own care provision or the \\ncare provision of their relative. One relative told us, \"We talked through [person\\'s] needs.\" \\n\\nStaff respected people\\'s privacy and dignity. We saw that doors were kept closed when people were \\nreceiving personal care. People we spoke with told us they felt that they were treated with respect and that \\ntheir privacy was protected. A person told us, \"I need help to get up and I get up when I want to. Staff ask \\npermission.\" A relative told us, \"One day I came up and [person] was sick in the toilet. They [staff] were very \\ntender with her. They always maintain her dignity throughout. Reassuring her the whole time.\" A staff \\nmember told us, \"Make sure the door is closed, encourage people to clean themselves and cover private \\nareas whilst supporting with personal care.\"\\n\\nWe saw that people were supported to maintain their independence, where appropriate. We saw one \\nperson make their own hot drinks and another person told us, \"I go to the church up the road.\" \\n\\nPeople\\'s bedrooms were personalised with family photos, ornaments and pictures. A person told us, \"I got \\nmy own bed and chair and mum and dad\\'s pictures up.\" We observed relatives visiting the home throughout\\nthe inspection with no restrictions on visiting times. A relative told us, \"No restriction. They are working hard \\nto maintain a good friendly atmosphere.\" \\n\\nCare plans documented that advanced care planning and end of life care was discussed with most people \\nand their relatives. People\\'s choices and wishes were recorded in relation to planning the way in which they \\nwanted to be cared. A relative told us, \"It is amazing and the staff are doing a wonderful job. You would not \\nthink that [person] is nearing the end of life because [person] is always very comfortable and well dressed. \\n\\n14 Apthorp Care Centre Inspection report 04 January 2018\\n\\n\\x0cThere is no foul smell although [person] is doubly incontinent. Most important of all [person] is not lonely, \\nbecause the staff always walk in all the time.\" \\n\\nStaff we spoke to understood what equality and diversity meant and how that affected the care they \\nprovided for people who used the service. When asked how to work with people from a variety of \\nbackgrounds, staff told us, \"Care would not differ. It would be the same for everyone regardless.\" People\\'s \\nreligious beliefs and cultural background were recorded in care files and people told us that they were able \\nto attend religious services and local religious leaders visited them at the service on a regular basis.\\n\\n15 Apthorp Care Centre Inspection report 04 January 2018\\n\\n\\x0c Is the service responsive?\\n\\nGood\\n\\nOur findings  \\nPeople using this service and their relatives told us that the management and staff responded to any \\nchanges in their needs. We saw from people\\'s care records and by talking with staff that if any changes to \\npeople\\'s health were noted by staff, they would report these changes and concerns to the home \\nmanagement team and health professionals. Relatives told us they were kept up to date with any issues and\\ninvolved in care reviews. A relative told us, \"[Person] knocked her hand and needed to be seen at hospital. \\nThey contacted us.\" A person who had recently been admitted with a pressure ulcer told us, \"My wound got \\nseen very quickly by the nurse and treatment started in quick time. This is amazing.\" Visiting health \\nprofessionals told us that staff were proactive in seeking advice and assistance when they had concerns. \\n\\nPeople\\'s individual care plans included detailed information about their life history, dietary likes and \\ndislikes, cultural and religious heritage, healthcare and medical needs, skincare and preferred routines. Care\\nplans were reviewed regularly and updated as changes occurred.\\n\\nThrough our observations and discussions with staff they demonstrated an awareness of people\\'s \\npreferences, what people were able to do and what they needed support with. Records showed \\npreadmission information had been completed. An assessment was carried out to identify people\\'s support \\nneeds and this included information about their medical conditions, behaviour, communication and their \\ndaily lives. \\n\\nPeople were supported to engage in activities on a daily basis. Comments from people regarding activities \\nincluded, \"We went to Southend in July. It was a really lovely day\", \"Plenty to do. Quizzes, drawing, flowers. \\nThey take me out to have a walk\" and \"Yes they do and they also ask me to help out. Here today I am on the \\ngreen balcony helping the activity coordinator prune the plants and tidy up.\" Some people we spoke with \\ntold us they did not want to take part in group activities and preferred to spend time in their rooms. During \\nthe inspection, we observed an activities co-ordinator visit people in their bedrooms on a one to one basis. \\n\\nNotices about activities and events were displayed around the home. We observed dedicated activities co-\\nordinators deliver the activities programme. On the days of the inspection, activities included poetry \\nreading, gardening and bingo. In addition, on the first evening of the inspection, a cocktail party was held to \\ncelebrate the 25 year anniversary of the provider. We observed a game of bingo in the bar area on second \\nmorning.  About 18 people took part, mostly sitting round tables. Bingo was based on old time songs rather \\nthan numbers so much of the activity was based on singing which enabled those not able to play to nod and\\nsing to the music. We noted that the activities coordinators knew people\\'s names. \\n\\nWe checked how the service handled complaints. We saw that any complaints received had been \\ninvestigated fully and appropriately, in line with the home\\'s policies and procedures. Responses from home \\nmanagement were open and detailed. Where mistakes had been made these were acknowledged and \\napologies provided. People and relatives generally told us that they had no complaints and any concerns \\nraised were appropriately dealt with.\\n\\n16 Apthorp Care Centre Inspection report 04 January 2018\\n\\n\\x0c Is the service well-led?\\n\\nRequires Improvement\\n\\nOur findings  \\nWe received positive feedback from people and relatives regarding how the home was managed overall. \\nSome people told us they did not know the registered manager, however, they knew who was in charge of \\ntheir flat or floor and felt confident that they could raise any concerns or queries with them. Feedback \\nreceived from people, relatives and staff was that the quality of care at Apthorp Care Centre had improved. \\nComments from people included, \"[registered manager] is easy to talk to, talked to him several times\" and \\n\"If I had a complaint would leave it to my daughter. There is a lady here you can talk to. I know a woman \\nmanager but do not know a man\" and \"Yes it is a man.\"  \\n\\nA relative told us, \"Since new manager been in its got a lot better. [Person] has been here three years and is \\nhappier now as it\\'s much improved. They come and check on her more often.\" A second relative told us, \\n\"The rating went down and they deserved it. New manager came, [deputy care manager] came and things \\nare better. It\\'s how it should be run now. Easier to deal with issues now got manager on each floor. They ring\\nme and keep me updated and you get continuity of staff. All good now.\" \\n\\nWe received a mixed response from staff when asked about the management of the home. Staff were \\ngenerally positive about the registered manager and the local management team; however, we found that \\nsome staff had low morale which was related to recent organisational changes with the provider and a lack \\nof management support at busy times of the day. One staff member told us, \"We are not short staffed but \\naround key times need support. We are not supported by managers. They are only around as CQC are \\naround.\" A second staff member told us, \"Management is good.\" A professional involved with the service \\ntold us that they found that management support was not visible at mealtimes when they visited the \\nservice. We spoke to the home management team who told us that they would ensure increased managerial\\nsupport at mealtimes and train non care staff to assist with some mealtime tasks. \\n\\nWhen we last inspected the service, we found that although quality monitoring measures were in place, they\\nhad not yet been embedded and did not pick up the concerns identified by the inspection team. At this \\ninspection we found that improvements had been made to quality assurance was still not fully developed \\nand embedded. In addition to a workbook, which was the required reporting tool submitted by the \\nregistered manager to the providers head office every month, we saw that the registered manager had \\ncreated a monthly audit unique to Apthorp Care Centre which was completed by the floor manager on each \\nfloor. The audit identified areas for improvement such as health and safety, maintenance, DoLS monitoring \\nand care plan reviews. We saw that the registered manager reviewed the monthly audits and made \\ncomments regarding improvements to be actioned. The registered manager told us that the audit findings \\nwere discussed with the floor manager in a supervision session as opposed to on a monthly basis to ensure \\nimprovements needed were actioned promptly. \\n\\nWhen we last inspected the service, we found concerns relating to fluid monitoring. At this inspection we \\nfound sufficient improvement had not been made. \\n\\nWe saw that a quality assurance survey was completed in July 2017. 50 questionnaires had been completed \\n\\n17 Apthorp Care Centre Inspection report 04 January 2018\\n\\n\\x0cand in eight of the questionnaires, negative feedback had been received. We saw no evidence of an action \\nplan or how concerns or negative comments would be addressed. The registered manager stated that all \\nresponses were sent to head office for analysis and an action plan  was expected to be compiled in October \\n2017. However the regional director advised us that negative feedback would be addressed immediately. \\nOverall, we found that although there were systems and processed in place for effective quality monitoring, \\nthese had not yet been embedded. \\n\\nThe service had a home improvement plan in place. Findings from previous CQC inspections and local \\nauthority feedback formed the basis of the home improvement plan. The home improvement plan was \\nupdated when actions had been completed and examples of recently completed improvement actions, \\nwhich were evidenced on inspection, included medicines management and auditing of accidents, incidents \\nand falls. \\n\\nStaff meetings took place on a regular basis. Topics discussed at meetings included CQC compliance, \\nmedicines and importance of consent. In addition to staff meetings, a daily handover and a \\'10 at 10\\' \\nmeeting took place. At the handover, feedback from night staff was relayed to the care manager who \\nadvised day staff of any concerns or issues. We were advised that the handover process would be changing \\nand a detailed handover document would shortly be trialled in two flats. This handover document would  be\\nindividual to each person and would include their background history, observations and care \\nrecommendations. \\n\\nResidents and relatives meetings took place on a regular basis. Topics discussed included communication \\nwithin the home, CQC inspection findings and actions taken to ensure improvement, role of local \\nauthorities, social events and activities. \\n\\nThroughout the inspection we gave feedback to the home management team and senior management and \\nclarification was sought where necessary, for example in relation to improvements to medicines \\nmanagement and staffing concerns at mealtimes. The registered manager and deputy manager \\ndemonstrated a willingness to learn and reflect in order to improve the service people received as a result. \\nShortly after the inspection, the registered manager submitted an action plan to the lead inspector outlining\\nactions to be taken to address the issues identified throughout this inspection.\\n\\n18 Apthorp Care Centre Inspection report 04 January 2018\\n\\n\\x0cThis section is primarily information for the provider\\n\\nAction we have told the provider to take\\n\\nThe table below shows where regulations were not being met and we have asked the provider to send us a \\nreport that says what action they are going to take.We will check that this action is taken by the provider.\\n\\nRegulated activity\\nAccommodation for persons who require nursing or \\npersonal care\\n\\nRegulation\\nRegulation 17 HSCA RA Regulations 2014 Good \\ngovernance\\n\\nRegulated activity\\nAccommodation for persons who require nursing or \\npersonal care\\n\\nRegulation 17(1) \\n\\nThe provider had not ensured that health \\nmonitoring forms had been completed for \\npeople at risk of dehydration.\\n\\nRegulation\\nRegulation 18 HSCA RA Regulations 2014 Staffing\\n\\nRegulation 18(1) \\n\\nThe provider had not ensured sufficient staff \\nwere effectively deployed at mealtimes.\\n\\n19 Apthorp Care Centre Inspection report 04 January 2018\\n\\n\\x0c'"
      ]
     },
     "execution_count": 1,
     "metadata": {},
     "output_type": "execute_result"
    }
   ],
   "source": [
    "# conda install -c conda-forge pdfminer Python libraries\n",
    "\n",
    "# pdf miner\n",
    "\n",
    "from pdfminer.pdfinterp import PDFResourceManager, PDFPageInterpreter\n",
    "from pdfminer.converter import TextConverter\n",
    "from pdfminer.layout import LAParams\n",
    "from pdfminer.pdfpage import PDFPage\n",
    "from io import StringIO\n",
    "\n",
    "def convert(fname, pages=None):\n",
    "    if not pages:\n",
    "        pagenums = set()\n",
    "    else:\n",
    "        pagenums = set(pages)\n",
    "\n",
    "    output = StringIO()\n",
    "    manager = PDFResourceManager()\n",
    "    converter = TextConverter(manager, output, laparams=LAParams())\n",
    "    interpreter = PDFPageInterpreter(manager, converter)\n",
    "\n",
    "    infile = open(fname, 'rb')\n",
    "    for page in PDFPage.get_pages(infile, pagenums):\n",
    "        interpreter.process_page(page)\n",
    "    infile.close()\n",
    "    converter.close()\n",
    "    text = output.getvalue()\n",
    "    output.close\n",
    "    return text \n",
    "\n",
    "# change to file path for pdfs...\n",
    "convert('sample.pdf')\n"
   ]
  },
  {
   "cell_type": "code",
   "execution_count": 1,
   "metadata": {},
   "outputs": [
    {
     "name": "stdout",
     "output_type": "stream",
     "text": [
      "showing info https://raw.githubusercontent.com/nltk/nltk_data/gh-pages/index.xml\n"
     ]
    },
    {
     "data": {
      "text/plain": [
       "True"
      ]
     },
     "execution_count": 1,
     "metadata": {},
     "output_type": "execute_result"
    }
   ],
   "source": [
    "# NLP basics\n",
    "#Tokenization – process of converting a text into tokens\n",
    "#Tokens – words or entities present in the text\n",
    "#Text object – a sentence or a phrase or a word or an article\n",
    "\n",
    "\n",
    "\n",
    "#Table of Contents\n",
    "\n",
    "#Stemming\n",
    "#Lemmatisation\n",
    "#Word Embeddings\n",
    "#Part-of-Speech Tagging\n",
    "#Named Entity Disambiguation\n",
    "#Named Entity Recognition\n",
    "#Sentiment Analysis\n",
    "#Semantic Text Similarity\n",
    "#Language Identification\n",
    "#Text Summarisation\n",
    "\n",
    "import nltk \n",
    "nltk.download()"
   ]
  },
  {
   "cell_type": "code",
   "execution_count": 6,
   "metadata": {},
   "outputs": [],
   "source": [
    "#Noise Removal\n",
    "#Lexicon Normalization\n",
    "#Object Standardization"
   ]
  },
  {
   "cell_type": "code",
   "execution_count": 4,
   "metadata": {},
   "outputs": [
    {
     "data": {
      "text/plain": [
       "'at the sample text'"
      ]
     },
     "execution_count": 4,
     "metadata": {},
     "output_type": "execute_result"
    }
   ],
   "source": [
    "#Noise Removal\n",
    "\n",
    "# Any piece of text which is not relevant to the context\n",
    "#of the data and the end-output can be specified as the noise.\n",
    "#For example – language stopwords (commonly used words of a language\n",
    "#– is, am, the, of, in etc), URLs or links, social media entities\n",
    "#(mentions, hashtags), punctuations and industry specific words. \n",
    "#This step deals with removal of all types of noisy entities present in the text.\n",
    "#A general approach for noise removal is to prepare a dictionary of noisy\n",
    "#entities, and iterate the text object by tokens (or by words), eliminating\n",
    "#those tokens which are present in the noise dictionary.\n",
    "noise_list = [\"is\", \"a\", \"this\", \"...\"] \n",
    "def _remove_noise(input_text):\n",
    "    words = input_text.split() \n",
    "    noise_free_words = [word for word in words if word not in noise_list] \n",
    "    noise_free_text = \" \".join(noise_free_words) \n",
    "    return noise_free_text\n",
    "_remove_noise(\"this is a at the ... sample text\")"
   ]
  },
  {
   "cell_type": "code",
   "execution_count": 5,
   "metadata": {},
   "outputs": [
    {
     "data": {
      "text/plain": [
       "'remove this  from this website'"
      ]
     },
     "execution_count": 5,
     "metadata": {},
     "output_type": "execute_result"
    }
   ],
   "source": [
    "# Sample code to remove a regex pattern \n",
    "import re\n",
    "def _remove_regex(input_text, regex_pattern):\n",
    "    urls = re.finditer(regex_pattern, input_text) \n",
    "    for i in urls: \n",
    "        input_text = re.sub(i.group().strip(), '', input_text)\n",
    "    return input_text\n",
    "\n",
    "regex_pattern = \"#[\\w]*\" \n",
    "\n",
    "_remove_regex(\"remove this #hashtag from this website\", regex_pattern)"
   ]
  },
  {
   "cell_type": "code",
   "execution_count": null,
   "metadata": {},
   "outputs": [],
   "source": [
    "# Lexicon Normalization\n",
    "\n",
    "\n",
    "#Normalization is a pivotal step for feature \n",
    "#engineering with text as it converts the high \n",
    "#dimensional features (N different features)\n",
    "#to the low dimensional space (1 feature), \n",
    "#which is an ideal ask for any ML model.\n",
    "\n",
    "#Stemming:  \n",
    "#Stemming is a rudimentary rule-based process of\n",
    "#stripping the suffixes (“ing”, “ly”, “es”, “s” etc) from a word.\n",
    "\n",
    "\n",
    "#Lemmatization: Lemmatization, on the other hand, is an organized &\n",
    "#step by step procedure of obtaining the root form of the word, it \n",
    "#makes use of vocabulary (dictionary importance of words) and\n",
    "#morphological analysis (word structure and grammar relations)."
   ]
  },
  {
   "cell_type": "code",
   "execution_count": 6,
   "metadata": {},
   "outputs": [],
   "source": [
    "from nltk.stem.wordnet import WordNetLemmatizer \n",
    "\n",
    "# Defining objects \n",
    "lem = WordNetLemmatizer()\n",
    "\n",
    "from nltk.stem.porter import PorterStemmer \n",
    "# Defining objects\n",
    "stem = PorterStemmer()"
   ]
  },
  {
   "cell_type": "code",
   "execution_count": 7,
   "metadata": {},
   "outputs": [
    {
     "name": "stdout",
     "output_type": "stream",
     "text": [
      "multiply\n",
      "integrate\n"
     ]
    }
   ],
   "source": [
    "word_1 = \"multiplying\" \n",
    "word_2 = \"integrating\"\n",
    "print lem.lemmatize(word_1, \"v\")\n",
    "print lem.lemmatize(word_2, \"v\")"
   ]
  },
  {
   "cell_type": "code",
   "execution_count": 8,
   "metadata": {},
   "outputs": [
    {
     "name": "stdout",
     "output_type": "stream",
     "text": [
      "multipli\n",
      "integr\n"
     ]
    }
   ],
   "source": [
    "word_1 = \"multiplying\" \n",
    "word_2 = \"integrating\"\n",
    "print stem.stem(word_1)\n",
    "print stem.stem(word_2)"
   ]
  },
  {
   "cell_type": "code",
   "execution_count": 65,
   "metadata": {},
   "outputs": [
    {
     "data": {
      "text/plain": [
       "'This is a Retweet retweeted tweet by me and its awesome'"
      ]
     },
     "execution_count": 65,
     "metadata": {},
     "output_type": "execute_result"
    }
   ],
   "source": [
    "# Object Standardization\n",
    "text_raw =\"This is a rt retweeted tweet by me and its awsm\"\n",
    "\n",
    "lookup_dict = {'rt':'Retweet', 'dm':'direct message', \"awsm\" : \"awesome\", \"luv\" :\"love\"}\n",
    "def _lookup_words(input_text):\n",
    "    words = input_text.split() \n",
    "    new_words = [] \n",
    "    for word in words:\n",
    "        if word.lower() in lookup_dict:\n",
    "            word = lookup_dict[word.lower()]\n",
    "        new_words.append(word) \n",
    "        new_text = \" \".join(new_words) \n",
    "    return new_text\n",
    "\n",
    "_lookup_words(text_raw)"
   ]
  },
  {
   "cell_type": "code",
   "execution_count": 72,
   "metadata": {},
   "outputs": [
    {
     "name": "stdout",
     "output_type": "stream",
     "text": [
      "[('I', 'PRP'), ('am', 'VBP'), ('learning', 'VBG'), ('Natural', 'NNP'), ('Language', 'NNP'), ('Processing', 'NNP'), ('on', 'IN'), ('Analytics', 'NNP'), ('Vidhya', 'NNP')]\n"
     ]
    }
   ],
   "source": [
    "# Text to Features\n",
    "# Syntactic Parsing\n",
    "from nltk import word_tokenize, pos_tag\n",
    "text = \"I am learning Natural Language Processing on Analytics Vidhya\"\n",
    "tokens = word_tokenize(text)\n",
    "print pos_tag(tokens)\n",
    "## Proper Noun:\n",
    "#NNP (Proper Noun)\n",
    "# VBG Verb gerund \n",
    "\n",
    "setence_1 = \"Please book my flight for Delhi\"\n",
    "\n",
    "setence_2 = \"I am going to read this book in the flight\"\n",
    "\n",
    "\n",
    "# Context based ?\n",
    "\n",
    "pos_tag(word_tokenize(setence_2))\n",
    "\n",
    "pos_tag(word_tokenize(setence_1))"
   ]
  },
  {
   "cell_type": "code",
   "execution_count": 77,
   "metadata": {},
   "outputs": [],
   "source": [
    "#The process of detecting the named entities \n",
    "#such as person names, location names, company \n",
    "#names etc from the text is called as NER."
   ]
  },
  {
   "cell_type": "code",
   "execution_count": 156,
   "metadata": {},
   "outputs": [
    {
     "data": {
      "text/plain": [
       "[['Sugar',\n",
       "  'is',\n",
       "  'bad',\n",
       "  'to',\n",
       "  'consume.',\n",
       "  'My',\n",
       "  'sister',\n",
       "  'likes',\n",
       "  'to',\n",
       "  'have',\n",
       "  'sugar,',\n",
       "  'but',\n",
       "  'not',\n",
       "  'my',\n",
       "  'father.'],\n",
       " ['My',\n",
       "  'father',\n",
       "  'spends',\n",
       "  'a',\n",
       "  'lot',\n",
       "  'of',\n",
       "  'time',\n",
       "  'driving',\n",
       "  'my',\n",
       "  'sister',\n",
       "  'around',\n",
       "  'to',\n",
       "  'dance',\n",
       "  'practice.'],\n",
       " ['Doctors',\n",
       "  'suggest',\n",
       "  'that',\n",
       "  'driving',\n",
       "  'may',\n",
       "  'cause',\n",
       "  'increased',\n",
       "  'stress',\n",
       "  'and',\n",
       "  'blood',\n",
       "  'pressure.']]"
      ]
     },
     "execution_count": 156,
     "metadata": {},
     "output_type": "execute_result"
    }
   ],
   "source": [
    "#Topic modeling is a process of automatically \n",
    "#identifying the topics present in a text corpus, \n",
    "#it derives the hidden patterns among the words \n",
    "#in the corpus in an unsupervised manner. \n",
    "\n",
    "\n",
    "#Topics are defined as “a repeating pattern of co-occurring \n",
    "#terms in a corpus”. A good topic model results in – “health”, \n",
    "#“doctor”, “patient”, “hospital” for a topic – Healthcare, \n",
    "#and “farm”, “crops”, “wheat” for a topic – “Farming”.\n",
    "\n",
    "\n",
    "# Latent Dirichlet Allocation (LDA)\n",
    "\n",
    "\n",
    "\n",
    "doc1 = \"Sugar is bad to consume. My sister likes to have sugar, but not my father.\" \n",
    "doc2 = \"My father spends a lot of time driving my sister around to dance practice.\"\n",
    "doc3 = \"Doctors suggest that driving may cause increased stress and blood pressure.\"\n",
    "doc_complete = [doc1, doc2, doc3]\n",
    "doc_clean = [doc.split() for doc in doc_complete]\n",
    "doc_clean"
   ]
  },
  {
   "cell_type": "code",
   "execution_count": 152,
   "metadata": {},
   "outputs": [],
   "source": [
    "## https://radimrehurek.com/gensim/index.html\n",
    "\n",
    "#Gensim is a free Python library designed to \n",
    "#automatically extract semantic topics \n",
    "#from documents, as efficiently (computer-wise) \n",
    "#and painlessly (human-wise) as possible.\n",
    "\n",
    "import gensim\n",
    "from gensim import corpora"
   ]
  },
  {
   "cell_type": "code",
   "execution_count": 158,
   "metadata": {},
   "outputs": [
    {
     "name": "stdout",
     "output_type": "stream",
     "text": [
      "[[(0, 1), (1, 1), (2, 1), (3, 1), (4, 1), (5, 1), (6, 1), (7, 1), (8, 1), (9, 1), (10, 1), (11, 1), (12, 1), (13, 2)], [(0, 1), (9, 1), (11, 1), (13, 1), (14, 1), (15, 1), (16, 1), (17, 1), (18, 1), (19, 1), (20, 1), (21, 1), (22, 1), (23, 1)], [(17, 1), (24, 1), (25, 1), (26, 1), (27, 1), (28, 1), (29, 1), (30, 1), (31, 1), (32, 1), (33, 1)]]\n",
      "[(0, u'0.029*\"my\" + 0.029*\"sister\" + 0.029*\"My\" + 0.029*\"to\" + 0.029*\"increased\" + 0.029*\"stress\" + 0.029*\"Doctors\" + 0.029*\"suggest\" + 0.029*\"and\" + 0.029*\"may\"'), (1, u'0.064*\"driving\" + 0.037*\"lot\" + 0.037*\"a\" + 0.037*\"around\" + 0.037*\"time\" + 0.037*\"dance\" + 0.037*\"father\" + 0.037*\"of\" + 0.037*\"practice.\" + 0.037*\"spends\"'), (2, u'0.089*\"to\" + 0.051*\"My\" + 0.051*\"sister\" + 0.051*\"my\" + 0.051*\"sugar,\" + 0.051*\"not\" + 0.051*\"Sugar\" + 0.051*\"is\" + 0.051*\"bad\" + 0.051*\"have\"')]\n"
     ]
    }
   ],
   "source": [
    "# Creating the term dictionary of our corpus, where every unique term is assigned an index.  \n",
    "dictionary = corpora.Dictionary(doc_clean)\n",
    "\n",
    "#Converting list of documents (corpus) into Document\n",
    "#Term Matrix using dictionary prepared above. \n",
    "## ?? vectors number of times each elements appears\n",
    "doc_term_matrix = [dictionary.doc2bow(doc) for doc in doc_clean]\n",
    "print (doc_term_matrix)\n",
    "# Creating the object for LDA model using gensim library\n",
    "Lda = gensim.models.ldamodel.LdaModel\n",
    "\n",
    "# Running and Training LDA model on the document term matrix\n",
    "ldamodel = Lda(doc_term_matrix, num_topics=3, id2word = dictionary, passes=50)\n",
    "# Results \n",
    "print(ldamodel.print_topics())"
   ]
  },
  {
   "cell_type": "code",
   "execution_count": 154,
   "metadata": {},
   "outputs": [
    {
     "name": "stdout",
     "output_type": "stream",
     "text": [
      "(0, u'0.200*\"He\" + 0.200*\"boy\" + 0.200*\"is\" + 0.200*\"a\" + 0.200*\"big\"')\n"
     ]
    }
   ],
   "source": [
    "\n",
    "text=\"He is a big big boy\"\n",
    "doc_clean= [text.split()]\n",
    "dictionary = corpora.Dictionary(doc_clean)\n",
    "doc_term_matrix = [dictionary.doc2bow(doc) for doc in doc_clean]\n",
    "\n",
    "# Running and Training LDA model on the document term matrix\n",
    "ldamodel = Lda(doc_term_matrix, num_topics=3, id2word = dictionary, passes=50)\n",
    "# Results \n",
    "print(ldamodel.print_topics()[0])"
   ]
  },
  {
   "cell_type": "code",
   "execution_count": 163,
   "metadata": {},
   "outputs": [
    {
     "data": {
      "text/plain": [
       "[['this', 'is'], ['is', 'a'], ['a', 'sample'], ['sample', 'text']]"
      ]
     },
     "execution_count": 163,
     "metadata": {},
     "output_type": "execute_result"
    }
   ],
   "source": [
    "# N-Grams as Features\n",
    "def generate_ngrams(text, n):\n",
    "    words = text.split()\n",
    "    output = []  \n",
    "    for i in range(len(words)-n+1):\n",
    "        output.append(words[i:i+n])\n",
    "    return output\n",
    "\n",
    "# Binary gram \n",
    "generate_ngrams('this is a sample text', 2)"
   ]
  },
  {
   "cell_type": "code",
   "execution_count": 164,
   "metadata": {},
   "outputs": [
    {
     "name": "stdout",
     "output_type": "stream",
     "text": [
      "  (0, 7)\t0.5844829010200651\n",
      "  (0, 2)\t0.5844829010200651\n",
      "  (0, 4)\t0.444514311537431\n",
      "  (0, 1)\t0.34520501686496574\n",
      "  (1, 1)\t0.3853716274664007\n",
      "  (1, 0)\t0.652490884512534\n",
      "  (1, 3)\t0.652490884512534\n",
      "  (2, 4)\t0.444514311537431\n",
      "  (2, 1)\t0.34520501686496574\n",
      "  (2, 6)\t0.5844829010200651\n",
      "  (2, 5)\t0.5844829010200651\n"
     ]
    }
   ],
   "source": [
    "#Term Frequency (TF) – TF for a term “t” is defined \n",
    "#as the count of a term “t” in a document “D”\n",
    "\n",
    "#Inverse Document Frequency (IDF) – IDF for a term \n",
    "#is defined as logarithm of ratio of total documents\n",
    "#available in the corpus and number of documents \n",
    "#containing the term T.\n",
    "\n",
    "from sklearn.feature_extraction.text import TfidfVectorizer\n",
    "obj = TfidfVectorizer()\n",
    "obj = TfidfVectorizer()\n",
    "corpus = ['This is sample document.', 'another random document.', 'third sample document text']\n",
    "X = obj.fit_transform(corpus)\n",
    "print X"
   ]
  },
  {
   "cell_type": "code",
   "execution_count": 206,
   "metadata": {},
   "outputs": [
    {
     "name": "stdout",
     "output_type": "stream",
     "text": [
      "-0.2366132946433113\n",
      "[ 2.5001867e-03 -4.5279837e-03  3.2164674e-04 -4.4285697e-03\n",
      "  4.1545318e-03 -2.1649762e-03 -3.8046767e-03 -1.7539723e-03\n",
      "  5.9814251e-04  3.5325827e-03 -3.9156429e-03  5.8388693e-04\n",
      "  2.1662123e-03 -4.5341258e-03  1.5721378e-03  4.6008709e-03\n",
      " -2.1712466e-03 -1.1091464e-03 -3.1049079e-03 -3.8329777e-03\n",
      "  2.6114439e-03  6.9665466e-04  1.8230440e-03 -2.0439368e-04\n",
      " -1.3953244e-03  2.5326526e-03 -1.3467000e-03  7.9407363e-04\n",
      " -8.5678376e-04 -2.7677296e-03 -3.2886763e-03 -4.6619233e-03\n",
      "  7.3562146e-06  1.1412736e-03 -1.2158153e-03  7.6474954e-04\n",
      " -4.3854597e-03  1.7202114e-03  2.6836181e-03  1.4622611e-03\n",
      " -2.5849789e-03  4.8951223e-03  4.8026382e-03 -1.6887399e-03\n",
      "  3.7905199e-03 -1.8123538e-03 -1.8461549e-03 -3.6006782e-03\n",
      " -8.0820097e-04  2.4030278e-03  2.6205764e-03 -1.3611730e-03\n",
      "  3.2463272e-03  4.4065714e-03 -4.9645538e-03  1.0241962e-03\n",
      "  7.2724192e-04  1.0305879e-03  3.8043426e-03 -1.5256479e-03\n",
      "  4.4337765e-04  8.2238915e-04  1.0542222e-03  1.5848925e-04\n",
      "  2.7174465e-04 -4.1874815e-03 -1.3866873e-03 -4.4830837e-03\n",
      " -5.5923843e-04 -4.6276394e-03 -4.6137613e-03  1.1266705e-03\n",
      "  2.8460119e-03 -4.0153079e-03 -1.0213936e-03 -3.4116728e-03\n",
      " -4.3979678e-03 -2.1404165e-03  4.8894719e-03  1.2435411e-03\n",
      " -2.9593618e-03  6.9390453e-04 -1.7993891e-04  3.9033850e-03\n",
      "  3.8551667e-03 -3.4354749e-04 -1.7333762e-03 -3.4099706e-03\n",
      "  2.2529550e-03  7.4087334e-04  9.8270993e-04 -2.9371216e-04\n",
      " -2.5866383e-03  3.2008286e-03 -3.1004008e-03  4.4333171e-03\n",
      "  4.8331725e-03  1.0723709e-03 -5.6745659e-04 -2.0097558e-04]\n"
     ]
    },
    {
     "name": "stderr",
     "output_type": "stream",
     "text": [
      "/anaconda2/lib/python2.7/site-packages/ipykernel_launcher.py:19: DeprecationWarning: Call to deprecated `similarity` (Method will be removed in 4.0.0, use self.wv.similarity() instead).\n",
      "/anaconda2/lib/python2.7/site-packages/ipykernel_launcher.py:21: DeprecationWarning: Call to deprecated `__getitem__` (Method will be removed in 4.0.0, use self.wv.__getitem__() instead).\n"
     ]
    }
   ],
   "source": [
    "#Word Embedding (text vectors)\n",
    "#Word2Vec\n",
    "#GloVe \n",
    "\n",
    "#Word2Vec model is composed of preprocessing module, a shallow \n",
    "#neural network model called Continuous Bag of Words and another\n",
    "#shallow neural network model called skip-gram. These models are \n",
    "#widely used for all other nlp problems. It first constructs a vocabulary\n",
    "#from the training corpus and then learns word embedding representations. \n",
    "#Following code using gensim package prepares the word embedding as the vector\n",
    "\n",
    "from gensim.models import Word2Vec\n",
    "sentences = [['data', 'science'], ['vidhya', 'science', 'data', 'analytics'],\n",
    "             ['machine', 'learning'], ['deep', 'learning']]\n",
    "\n",
    "\n",
    "# train the model on your corpus\n",
    "model = Word2Vec(sentences, min_count = 1)\n",
    "print model.similarity('data', 'science')\n",
    "\n",
    "print model['learning'] "
   ]
  },
  {
   "cell_type": "code",
   "execution_count": 250,
   "metadata": {},
   "outputs": [
    {
     "name": "stdout",
     "output_type": "stream",
     "text": [
      "Class_A\n",
      "Class_B\n",
      "Class_A\n",
      "0.833333333333\n"
     ]
    }
   ],
   "source": [
    "## Important tasks of NLP\n",
    "# Text Classification\n",
    "\n",
    "#Email Spam Identification, topic classification of news,\n",
    "#sentiment classification and organization of web pages by search engines.\n",
    "\n",
    "\n",
    "#Text classification, in common words is defined as a technique to systematically\n",
    "#classify a text object (document or sentence) in one of the fixed category. \n",
    "#It is really helpful when the amount of data is too large, especially for organizing, \n",
    "#information filtering, and storage purposes.\n",
    "#A typical natural language classifier consists of two parts: \n",
    "#(a) Training (b) Prediction as shown in image below. Firstly the \n",
    "#text input is processes and features are created. The machine learning models\n",
    "#then learn these features and is used for predicting against the new text.\n",
    "\n",
    "\n",
    "\n",
    "# Installing\n",
    "#pip install -U textblob\n",
    "#python -m textblob.download_corpora\n",
    "\n",
    "\n",
    "from textblob.classifiers import NaiveBayesClassifier as NBC\n",
    "from textblob import TextBlob\n",
    "\n",
    "\n",
    "training_corpus = [ ('I am exhausted of this work.', 'Class_B'),\n",
    "                   (\"I can't cooperate with this\", 'Class_B'),\n",
    "                   ('He is my badest enemy!', 'Class_B'),\n",
    "                   ('My management is poor.', 'Class_B'),\n",
    "                   ('I love this burger.', 'Class_A'),\n",
    "                   ('This is an brilliant place!', 'Class_A'),\n",
    "                   ('I feel very good about these dates.', 'Class_A'),\n",
    "                   ('This is my best work.', 'Class_A'),\n",
    "                   (\"What an awesome view\", 'Class_A'),\n",
    "                   ('I do not like this dish', 'Class_B')]\n",
    "test_corpus = [(\"I am not feeling well today.\", 'Class_B'), \n",
    "                (\"I feel brilliant!\", 'Class_A'), \n",
    "                ('Gary is a friend of mine.', 'Class_A'), \n",
    "                (\"I can't believe I'm doing this.\", 'Class_B'), \n",
    "                ('The date was good.', 'Class_A'), ('I do not enjoy my job', 'Class_B')]\n",
    "\n",
    "model = NBC(training_corpus) \n",
    "\n",
    "print(model.classify(\"Their codes are amazing.\"))\n",
    "print(model.classify(\"I don't like their computer.\"))\n",
    "\n",
    "print (model.classify(test_corpus[4][0]))\n",
    "print(model.accuracy(test_corpus))"
   ]
  },
  {
   "cell_type": "code",
   "execution_count": null,
   "metadata": {},
   "outputs": [],
   "source": []
  },
  {
   "cell_type": "code",
   "execution_count": 259,
   "metadata": {},
   "outputs": [
    {
     "name": "stdout",
     "output_type": "stream",
     "text": [
      "             precision    recall  f1-score   support\n",
      "\n",
      "    Class_A       0.50      0.67      0.57         3\n",
      "    Class_B       0.50      0.33      0.40         3\n",
      "\n",
      "avg / total       0.50      0.50      0.49         6\n",
      "\n"
     ]
    }
   ],
   "source": [
    "import sklearn \n",
    "from sklearn.feature_extraction.text import TfidfVectorizer\n",
    "from sklearn.metrics import classification_report\n",
    "from sklearn import svm\n",
    "\n",
    "# preparing data for SVM model (using the same training_corpus, test_corpus from naive bayes example)\n",
    "train_data = []\n",
    "train_labels = []\n",
    "for row in training_corpus:\n",
    "    train_data.append(row[0])\n",
    "    train_labels.append(row[1])\n",
    "\n",
    "test_data = [] \n",
    "test_labels = [] \n",
    "for row in test_corpus:\n",
    "    test_data.append(row[0]) \n",
    "    test_labels.append(row[1])\n",
    "\n",
    "# Create feature vectors \n",
    "vectorizer = TfidfVectorizer(min_df=4, max_df=0.9)\n",
    "# Train the feature vectors\n",
    "train_vectors = vectorizer.fit_transform(train_data)\n",
    "# Apply model on test data \n",
    "test_vectors = vectorizer.transform(test_data)\n",
    "\n",
    "# Perform classification with SVM, kernel=linear \n",
    "model = svm.SVC(kernel='linear') \n",
    "model.fit(train_vectors, train_labels) \n",
    "prediction = model.predict(test_vectors)\n",
    "\n",
    "\n",
    "print (classification_report(test_labels, prediction))\n",
    " "
   ]
  },
  {
   "cell_type": "code",
   "execution_count": 257,
   "metadata": {},
   "outputs": [],
   "source": [
    "# Text Matching / Similarity\n",
    "#A. Levenshtein Distance – The Levenshtein distance between \n",
    "#two strings is defined as the minimum number of edits needed to \n",
    "#transform one string into the other, with the allowable edit \n",
    "#operations being insertion, deletion, or\n",
    "#substitution of a single character. Following is the implementation \n",
    "#for efficient memory computations."
   ]
  },
  {
   "cell_type": "code",
   "execution_count": 264,
   "metadata": {},
   "outputs": [
    {
     "name": "stdout",
     "output_type": "stream",
     "text": [
      "1\n",
      "9\n"
     ]
    }
   ],
   "source": [
    "def levenshtein(s1,s2): \n",
    "    if len(s1) > len(s2):\n",
    "        s1,s2 = s2,s1 \n",
    "    distances = range(len(s1) + 1) \n",
    "    for index2,char2 in enumerate(s2):\n",
    "        newDistances = [index2+1]\n",
    "        for index1,char1 in enumerate(s1):\n",
    "            if char1 == char2:\n",
    "                newDistances.append(distances[index1]) \n",
    "            else:\n",
    "                 newDistances.append(1 + min((distances[index1], distances[index1+1], newDistances[-1]))) \n",
    "        distances = newDistances \n",
    "    return distances[-1]\n",
    "\n",
    "print(levenshtein(\"analyze\",\"analyse\"))\n",
    "\n",
    "print levenshtein(\"analyze\",\"information\")"
   ]
  },
  {
   "cell_type": "code",
   "execution_count": 295,
   "metadata": {},
   "outputs": [],
   "source": [
    "#Phonetic Matching – A Phonetic matching algorithm takes a \n",
    "#keyword as input (person’s name, location name etc) and produces \n",
    "#a character string that identifies a set of words that are (roughly)\n",
    "#phonetically similar. It is very useful for searching large text corpuses,\n",
    "#correcting spelling errors and matching relevant names. Soundex and Metaphone\n",
    "#are two main phonetic algorithms used for this purpose. Python’s module Fuzzy\n",
    "#is used to compute soundex strings for different words, for example –\n",
    "\n"
   ]
  },
  {
   "cell_type": "code",
   "execution_count": 296,
   "metadata": {},
   "outputs": [
    {
     "data": {
      "text/plain": [
       "76"
      ]
     },
     "execution_count": 296,
     "metadata": {},
     "output_type": "execute_result"
    }
   ],
   "source": [
    "from fuzzywuzzy import fuzz\n",
    "from fuzzywuzzy import process\n",
    "fuzz.ratio(\"ACME Factory alpha\", \"ACME Factory Inc.\")\n",
    "fuzz.partial_ratio(\"ACME Factory alpha\", \"ACME Factory Inc.\")"
   ]
  },
  {
   "cell_type": "code",
   "execution_count": 297,
   "metadata": {},
   "outputs": [
    {
     "name": "stdout",
     "output_type": "stream",
     "text": [
      "A523\n",
      "A523\n"
     ]
    }
   ],
   "source": [
    "import fuzzy\n",
    "soundex = fuzzy.Soundex(4)\n",
    "print soundex('ankita')\n",
    "print soundex('aunkit')"
   ]
  },
  {
   "cell_type": "code",
   "execution_count": null,
   "metadata": {},
   "outputs": [],
   "source": []
  },
  {
   "cell_type": "code",
   "execution_count": null,
   "metadata": {},
   "outputs": [],
   "source": []
  }
 ],
 "metadata": {
  "kernelspec": {
   "display_name": "Python 3",
   "language": "python",
   "name": "python3"
  },
  "language_info": {
   "codemirror_mode": {
    "name": "ipython",
    "version": 3
   },
   "file_extension": ".py",
   "mimetype": "text/x-python",
   "name": "python",
   "nbconvert_exporter": "python",
   "pygments_lexer": "ipython3",
   "version": "3.6.4"
  }
 },
 "nbformat": 4,
 "nbformat_minor": 2
}
